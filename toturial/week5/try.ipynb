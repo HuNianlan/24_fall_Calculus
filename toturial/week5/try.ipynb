{
 "cells": [
  {
   "cell_type": "code",
   "execution_count": 5,
   "metadata": {},
   "outputs": [
    {
     "name": "stdout",
     "output_type": "stream",
     "text": [
      "-0.5\n",
      "0.09999999999999998\n",
      "-0.016666666666666774\n",
      "0.002873563218390607\n",
      "-0.0004926108374385119\n",
      "8.453085376147751e-05\n",
      "-1.4502842557273521e-05\n",
      "2.4883049665191947e-06\n",
      "-4.269253264799211e-07\n",
      "7.324881512449366e-08\n"
     ]
    }
   ],
   "source": [
    "a = 2\n",
    "for i in range(10):\n",
    "    # print(a)\n",
    "    print(a -2 -1/a)\n",
    "    a = 2+1/a\n",
    "    "
   ]
  }
 ],
 "metadata": {
  "kernelspec": {
   "display_name": "Python 3",
   "language": "python",
   "name": "python3"
  },
  "language_info": {
   "codemirror_mode": {
    "name": "ipython",
    "version": 3
   },
   "file_extension": ".py",
   "mimetype": "text/x-python",
   "name": "python",
   "nbconvert_exporter": "python",
   "pygments_lexer": "ipython3",
   "version": "3.9.6"
  }
 },
 "nbformat": 4,
 "nbformat_minor": 2
}
